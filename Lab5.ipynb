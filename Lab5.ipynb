{
  "nbformat": 4,
  "nbformat_minor": 0,
  "metadata": {
    "colab": {
      "provenance": [],
      "authorship_tag": "ABX9TyNxsKwJ1s8iJhScvWkEpBAZ",
      "include_colab_link": true
    },
    "kernelspec": {
      "name": "python3",
      "display_name": "Python 3"
    },
    "language_info": {
      "name": "python"
    }
  },
  "cells": [
    {
      "cell_type": "markdown",
      "metadata": {
        "id": "view-in-github",
        "colab_type": "text"
      },
      "source": [
        "<a href=\"https://colab.research.google.com/github/xhroch01/MPA-MLF/blob/main/Lab5.ipynb\" target=\"_parent\"><img src=\"https://colab.research.google.com/assets/colab-badge.svg\" alt=\"Open In Colab\"/></a>"
      ]
    },
    {
      "cell_type": "markdown",
      "source": [
        "**Feedforward Neural Networks**"
      ],
      "metadata": {
        "id": "c-bm60gHO0V_"
      }
    },
    {
      "cell_type": "markdown",
      "source": [
        "0. First import libraries"
      ],
      "metadata": {
        "id": "9bQzjT1dO6WE"
      }
    },
    {
      "cell_type": "code",
      "execution_count": 1,
      "metadata": {
        "id": "iCc35h3eOqqs"
      },
      "outputs": [],
      "source": [
        "from tensorflow.keras.models import Sequential\n",
        "from tensorflow.keras.layers import Dense, InputLayer\n",
        "import tensorflow as tf\n",
        "import matplotlib.pyplot as plt"
      ]
    },
    {
      "cell_type": "markdown",
      "source": [
        "**1. prepare data**\n",
        "In this part, the task would be to prepade our dataset, basically it is the logic table for XOR function"
      ],
      "metadata": {
        "id": "rkO7icuIPBb0"
      }
    },
    {
      "cell_type": "code",
      "source": [
        "import numpy as np\n",
        "\n",
        "X = np.array([[0, 0], [0, 1], [1, 0], [1, 1]])\n",
        "y = np.array([0, 1, 1, 0])\n",
        "\n",
        "# X = [[0, 0], [0, 1], [1, 0], [1, 1]]\n",
        "# y = [0, 1, 1, 0]"
      ],
      "metadata": {
        "id": "EJ499eVXPCy_"
      },
      "execution_count": 9,
      "outputs": []
    },
    {
      "cell_type": "markdown",
      "source": [
        "**2. Creating the model**\n",
        "To create a model of NN that is in the picture above, run the following cell"
      ],
      "metadata": {
        "id": "u2cH7wKXPmjg"
      }
    },
    {
      "cell_type": "code",
      "source": [
        "model = Sequential()\n",
        "model.add(InputLayer(input_shape=(2,)))\n",
        "model.add(Dense(2, activation='sigmoid'))\n",
        "model.add(Dense(1, activation='sigmoid'))"
      ],
      "metadata": {
        "id": "n3UTul2QPqCJ"
      },
      "execution_count": 18,
      "outputs": []
    },
    {
      "cell_type": "markdown",
      "source": [
        "**3. Compile the model**\n",
        "To compile yor model run:"
      ],
      "metadata": {
        "id": "VdsFDSQNP64W"
      }
    },
    {
      "cell_type": "code",
      "source": [
        "optimizer = tf.keras.optimizers.SGD(learning_rate=0.1)\n",
        "model.compile(loss='binary_crossentropy', optimizer=optimizer, metrics=['accuracy'])"
      ],
      "metadata": {
        "id": "tfjtCZtFP8Aq"
      },
      "execution_count": 11,
      "outputs": []
    },
    {
      "cell_type": "markdown",
      "source": [
        "**4. Model training**"
      ],
      "metadata": {
        "id": "-g7znFB4T4NB"
      }
    },
    {
      "cell_type": "code",
      "source": [
        "history = model.fit(X, y, epochs=2000, batch_size=1, verbose=0)"
      ],
      "metadata": {
        "id": "Kb5SbzUET7KN"
      },
      "execution_count": 12,
      "outputs": []
    },
    {
      "cell_type": "markdown",
      "source": [
        "**5. Model evaluation**"
      ],
      "metadata": {
        "id": "ZvFQVyaWUByz"
      }
    },
    {
      "cell_type": "code",
      "source": [
        "loss, accuracy = model.evaluate(X, y, verbose=0)\n",
        "print('Accuracy: {:.2f}'.format(accuracy*100))"
      ],
      "metadata": {
        "colab": {
          "base_uri": "https://localhost:8080/"
        },
        "id": "B3fwVmTfUCFF",
        "outputId": "6982263b-efc1-4458-bdcd-19f32516c37c"
      },
      "execution_count": 13,
      "outputs": [
        {
          "output_type": "stream",
          "name": "stdout",
          "text": [
            "Accuracy: 100.00\n"
          ]
        }
      ]
    },
    {
      "cell_type": "markdown",
      "source": [
        "**6. Model predictions**"
      ],
      "metadata": {
        "id": "u5XGe9eXV-14"
      }
    },
    {
      "cell_type": "code",
      "source": [
        "for id_x, data_sample in enumerate(X):\n",
        "    prediction = model.predict(np.expand_dims(data_sample, axis=0))\n",
        "    print(f\"Data sample is {data_sample}, prediction from model {prediction}, ground_truth {y[id_x]}\")\n"
      ],
      "metadata": {
        "colab": {
          "base_uri": "https://localhost:8080/"
        },
        "id": "K4MWm93SWBJz",
        "outputId": "61d38b2d-e4cd-4fa2-ab94-cf0bd3081e96"
      },
      "execution_count": 19,
      "outputs": [
        {
          "output_type": "stream",
          "name": "stdout",
          "text": [
            "\u001b[1m1/1\u001b[0m \u001b[32m━━━━━━━━━━━━━━━━━━━━\u001b[0m\u001b[37m\u001b[0m \u001b[1m0s\u001b[0m 104ms/step\n",
            "Data sample is [0 0], prediction from model [[[0.5240673]\n",
            "  [0.5240673]]], ground_truth 0\n",
            "\u001b[1m1/1\u001b[0m \u001b[32m━━━━━━━━━━━━━━━━━━━━\u001b[0m\u001b[37m\u001b[0m \u001b[1m0s\u001b[0m 43ms/step\n",
            "Data sample is [0 1], prediction from model [[[0.5240673]\n",
            "  [0.5318476]]], ground_truth 1\n",
            "\u001b[1m1/1\u001b[0m \u001b[32m━━━━━━━━━━━━━━━━━━━━\u001b[0m\u001b[37m\u001b[0m \u001b[1m0s\u001b[0m 43ms/step\n",
            "Data sample is [1 0], prediction from model [[[0.5318476]\n",
            "  [0.5240673]]], ground_truth 1\n",
            "\u001b[1m1/1\u001b[0m \u001b[32m━━━━━━━━━━━━━━━━━━━━\u001b[0m\u001b[37m\u001b[0m \u001b[1m0s\u001b[0m 45ms/step\n",
            "Data sample is [1 1], prediction from model [[[0.5318476]\n",
            "  [0.5318476]]], ground_truth 0\n"
          ]
        }
      ]
    },
    {
      "cell_type": "markdown",
      "source": [
        "**7. Display loss function during the training process and acuracy**"
      ],
      "metadata": {
        "id": "rjQkv1FUYpWn"
      }
    },
    {
      "cell_type": "code",
      "source": [
        "plt.figure()\n",
        "plt.plot(history.history['loss'])\n",
        "plt.xlabel('n epochs')\n",
        "plt.ylabel('loss')"
      ],
      "metadata": {
        "colab": {
          "base_uri": "https://localhost:8080/",
          "height": 466
        },
        "id": "YcpXpKaNYrRK",
        "outputId": "0d8d2711-e0b8-404b-a038-344a24f6fe97"
      },
      "execution_count": 20,
      "outputs": [
        {
          "output_type": "execute_result",
          "data": {
            "text/plain": [
              "Text(0, 0.5, 'loss')"
            ]
          },
          "metadata": {},
          "execution_count": 20
        },
        {
          "output_type": "display_data",
          "data": {
            "text/plain": [
              "<Figure size 640x480 with 1 Axes>"
            ],
            "image/png": "[encoded data removed]"
          },
          "metadata": {}
        }
      ]
    },
    {
      "cell_type": "markdown",
      "source": [
        "**Exercise 2 - Congressional Voting Data**"
      ],
      "metadata": {
        "id": "mniIyDdDa2SF"
      }
    },
    {
      "cell_type": "code",
      "source": [
        "import pandas as pd\n",
        "import numpy as np\n",
        "from tensorflow.keras.models import Sequential\n",
        "from tensorflow.keras.layers import Dense\n",
        "import tensorflow as tf\n",
        "import matplotlib.pyplot as plt"
      ],
      "metadata": {
        "id": "6ZUMwAyya6Gw"
      },
      "execution_count": 21,
      "outputs": []
    },
    {
      "cell_type": "markdown",
      "source": [
        "**1. Loading dataset**"
      ],
      "metadata": {
        "id": "Ssf7TwL1a8xK"
      }
    },
    {
      "cell_type": "code",
      "source": [
        "path_to_dataset = 'drive/MyDrive/MPA-MLF/EX_5/voting_complete.csv' # change the PATH\n",
        "pd_dataset = pd.read_csv(path_to_dataset)"
      ],
      "metadata": {
        "id": "VK5vz46QbEnV"
      },
      "execution_count": null,
      "outputs": []
    },
    {
      "cell_type": "code",
      "source": [
        "pd_dataset"
      ],
      "metadata": {
        "id": "cDG_Wq97bFmT"
      },
      "execution_count": null,
      "outputs": []
    }
  ]
}